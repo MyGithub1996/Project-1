{
 "cells": [
  {
   "cell_type": "raw",
   "metadata": {},
   "source": [
    "MACHINE LEARNING WORKSHEET-1\n",
    "\n",
    "1. The computational complexity of linear regression is:\n",
    " 𝑂(𝑛)\n",
    "\n",
    "2. Which of the following can be used to fit non-linear data?\n",
    " Polynomial Regression\n",
    "\n",
    "3. Which of the following can be used to optimize the cost function of Linear Regression? \n",
    " Gradient Descent\n",
    "    \n",
    "4. Which of the following method does not have closed form solution for its coefficients?\n",
    " Lasso\n",
    "    \n",
    "5. Which gradient descent algorithm always gives optimal solution?\n",
    " All of the above\n",
    "    \n",
    "6. Generalization error measures how well a model performs on training data.\n",
    " True\n",
    "    \n",
    "7. The cost function of linear regression can be given as 𝐽(𝑤0, 𝑤1) =12𝑚∑ (𝑤0 + 𝑤1𝑥(𝑖) − 𝑦(𝑖))𝑚 2𝑖=1. \n",
    "The half term at start is due to:\n",
    " it does not matter whether half is there or not.\n",
    "\n",
    "8. Which of the following will have symmetric relation between dependent variable and independent variable?\n",
    " Correlation\n",
    "    \n",
    "9. Which of the following is true about Normal Equation used to compute the coefficient of the Linear \n",
    "Regression?\n",
    " A) We don’t have to choose the learning rate.\n",
    " B) It becomes slow when number of features are very large.\n",
    "\n",
    "10. Which of the following statement/s are true if we generated data with the help of polynomial features \n",
    "with 5 degrees of freedom which perfectly fits the data?\n",
    " Linear Regression will have high bias and low variance.\n",
    "    \n",
    "11. Which of the following sentence is false regarding regression?\n",
    " It discovers causal relationship. \n",
    "    \n",
    "12. Which Linear Regression training algorithm can we use if we have a training set with millions of \n",
    "features?\n",
    " If you have a training set with millions of features you can use Stochastic Gradient Descent or Mini-batch Gradient Descent,\n",
    " and perhaps Batch Gradient Descent if the training set fits in memory. But you cannot use the Normal Equation because the\n",
    " computational complexity grows quickly (more than quadratically) with the number of features.\n",
    "    \n",
    "13. Which algorithms will not suffer or might suffer, if the features in training set have very different\n",
    "scales?\n",
    " The normal equations method does not require normalizing the features, so it remains unaffected by features in the training\n",
    " set having very different scales. Feature scaling is required for the various gradient descent algorithms. Feature scaling\n",
    " will help gradient descent converge quicker.\n",
    "    \n",
    "PYTHON – WORKSHEET 1\n",
    "\n",
    "1. Which of the following operators is used to calculate remainder in a division?\n",
    " % \n",
    "    \n",
    "2. In python 2//3 is equal to?\n",
    " 0\n",
    "    \n",
    "3. In python, 6<<2 is equal to?\n",
    " 24\n",
    "    \n",
    "4. In python, 6&2 will give which of the following as output?\n",
    " 2\n",
    "    \n",
    "5. In python, 6|2 will give which of the following as output?\n",
    " 6\n",
    "    \n",
    "6. What does the finally keyword denotes in python?\n",
    " the finally block will be executed no matter if the try block raises an error or not.\n",
    "    \n",
    "7. What does raise keyword is used for in python?\n",
    " It is used to raise an exception. \n",
    "    \n",
    "8. Which of the following is a common use case of yield keyword in python?\n",
    " in defining a generator   \n",
    "    \n",
    "9. Which of the following are the valid variable names?\n",
    " _abc\n",
    " abc2\n",
    "\n",
    "10. Which of the following are the keywords in python?\n",
    " yield\n",
    " raise"
   ]
  },
  {
   "cell_type": "raw",
   "metadata": {},
   "source": [
    "11. Write a python program to find the factorial of a number."
   ]
  },
  {
   "cell_type": "code",
   "execution_count": 3,
   "metadata": {},
   "outputs": [
    {
     "name": "stdout",
     "output_type": "stream",
     "text": [
      "The factorial of 8 is 40320\n"
     ]
    }
   ],
   "source": [
    "# Python program to find the factorial of number 8\n",
    "num = 8\n",
    "\n",
    "factorial = 1\n",
    "\n",
    "if num < 0:\n",
    "   print(\"Sorry, factorial does not exist for negative numbers\")\n",
    "elif num == 0:\n",
    "   print(\"The factorial of 0 is 1\")\n",
    "else:\n",
    "   for i in range(1,num + 1):\n",
    "       factorial = factorial*i\n",
    "   print(\"The factorial of\",num,\"is\",factorial)"
   ]
  },
  {
   "cell_type": "raw",
   "metadata": {},
   "source": [
    "12. Write a python program to find whether a number is prime or composite."
   ]
  },
  {
   "cell_type": "code",
   "execution_count": 4,
   "metadata": {},
   "outputs": [
    {
     "name": "stdout",
     "output_type": "stream",
     "text": [
      "35 is a composite number\n"
     ]
    }
   ],
   "source": [
    "# Program to check if a number is prime or composite\n",
    "\n",
    "num = 35\n",
    "\n",
    "flag = False\n",
    "\n",
    "if num > 1:\n",
    "    # check for factors\n",
    "    for i in range(2, num):\n",
    "        if (num % i) == 0:\n",
    "            # if factor is found, set flag to True\n",
    "            flag = True\n",
    "            # break out of loop\n",
    "            break\n",
    "\n",
    "# check if flag is True\n",
    "if flag:\n",
    "    print(num, \"is a composite number\")\n",
    "else:\n",
    "    print(num, \"is a prime number\")"
   ]
  },
  {
   "cell_type": "raw",
   "metadata": {},
   "source": [
    "13. Write a python program to check whether a given string is palindrome or not."
   ]
  },
  {
   "cell_type": "code",
   "execution_count": 5,
   "metadata": {},
   "outputs": [
    {
     "name": "stdout",
     "output_type": "stream",
     "text": [
      "Yes\n"
     ]
    }
   ],
   "source": [
    "# program to check whether a given string is palindrome or not.\n",
    "\n",
    "def isPalindrome(str):\n",
    " \n",
    "    # Run loop from 0 to len/2\n",
    "    for i in range(0, int(len(str)/2)):\n",
    "        if str[i] != str[len(str)-i-1]:\n",
    "            return False\n",
    "    return True\n",
    " \n",
    "# main function\n",
    "s = \"malayalam\"\n",
    "ans = isPalindrome(s)\n",
    " \n",
    "if (ans):\n",
    "    print(\"Yes\")\n",
    "else:\n",
    "    print(\"No\")"
   ]
  },
  {
   "cell_type": "raw",
   "metadata": {},
   "source": [
    "14. Write a Python program to get the third side of right-angled triangle from two given sides."
   ]
  },
  {
   "cell_type": "code",
   "execution_count": 6,
   "metadata": {},
   "outputs": [
    {
     "name": "stdout",
     "output_type": "stream",
     "text": [
      "Hypotenuse = 5.0\n",
      "Adjacent = 4.0\n",
      "Opposite = 3.0\n",
      "You know the answer!\n"
     ]
    }
   ],
   "source": [
    "def pythagoras(opposite_side,adjacent_side,hypotenuse):\n",
    "        if opposite_side == str(\"x\"):\n",
    "            return (\"Opposite = \" + str(((hypotenuse**2) - (adjacent_side**2))**0.5))\n",
    "        elif adjacent_side == str(\"x\"):\n",
    "            return (\"Adjacent = \" + str(((hypotenuse**2) - (opposite_side**2))**0.5))\n",
    "        elif hypotenuse == str(\"x\"):\n",
    "            return (\"Hypotenuse = \" + str(((opposite_side**2) + (adjacent_side**2))**0.5))\n",
    "        else:\n",
    "            return \"You know the answer!\"\n",
    "    \n",
    "print(pythagoras(3,4,'x'))\n",
    "print(pythagoras(3,'x',5))\n",
    "print(pythagoras('x',4,5))\n",
    "print(pythagoras(3,4,5))"
   ]
  },
  {
   "cell_type": "raw",
   "metadata": {},
   "source": [
    "15. Write a python program to print the frequency of each of the characters present in a given string."
   ]
  },
  {
   "cell_type": "code",
   "execution_count": 7,
   "metadata": {},
   "outputs": [
    {
     "name": "stdout",
     "output_type": "stream",
     "text": [
      "Count of all characters in IloveIndia is :\n",
      " {'I': 2, 'l': 1, 'o': 1, 'v': 1, 'e': 1, 'n': 1, 'd': 1, 'i': 1, 'a': 1}\n"
     ]
    }
   ],
   "source": [
    "# program to print the frequency of each of the characters present in a given string\n",
    "\n",
    "test_str = \"IloveIndia\"\n",
    "\n",
    "all_freq = {}\n",
    "\n",
    "for i in test_str:\n",
    "\tif i in all_freq:\n",
    "\t\tall_freq[i] += 1\n",
    "\telse:\n",
    "\t\tall_freq[i] = 1\n",
    "\n",
    "# printing result\n",
    "print (\"Count of all characters in IloveIndia is :\\n \"\n",
    "\t\t\t\t\t\t\t\t\t\t+ str(all_freq))"
   ]
  },
  {
   "cell_type": "code",
   "execution_count": null,
   "metadata": {},
   "outputs": [],
   "source": [
    "STATISTICS WORKSHEET-1\n",
    "\n",
    "1. Bernoulli random variables take (only) the values 1 and 0.\n",
    " True\n",
    "    \n",
    "2. Which of the following theorem states that the distribution of averages of iid variables, properly \n",
    "normalized, becomes that of a standard normal as the sample size increases?\n",
    " Central Limit Theorem\n",
    "    \n",
    "3. Which of the following is incorrect with respect to use of Poisson distribution?\n",
    " All of the mentioned\n",
    "    \n",
    "4. Point out the correct statement.\n",
    " All of the mentioned\n",
    "    \n",
    "5. ______ random variables are used to model rates.\n",
    " Poisson\n",
    "    \n",
    "6. 10. Usually replacing the standard error by its estimated value does change the CLT\n",
    " False\n",
    "    \n",
    "7. 1. Which of the following testing is concerned with making decisions using data?\n",
    " Hypothesis\n",
    "    \n",
    "8. 4. Normalized data are centered at______and have units equal to standard deviations of the \n",
    "original data.\n",
    " 0\n",
    "    \n",
    "9. Which of the following statement is incorrect with respect to outliers?\n",
    " Outliers cannot conform to the regression relationship\n",
    "    \n",
    "10. What do you understand by the term Normal Distribution?\n",
    " A normal distribution is the proper term for a probability bell curve. In a normal distribution the mean is zero and the\n",
    " standard deviation is 1. It has zero skew and a kurtosis of 3. Normal distributions are symmetrical, but not all symmetrical\n",
    " distributions are normal.    \n",
    "    \n",
    "11. How do you handle missing data? What imputation techniques do you recommend?\n",
    " Techniques recommended-\n",
    " 1. Mean or Median Imputation. When data is missing at random, we can use list-wise or pair-wise deletion of the missing\n",
    " observations. ...\n",
    " 2. Multivariate Imputation by Chained Equations (MICE) MICE assumes that the missing data are Missing at Random (MAR). ...\n",
    " 3. Random Forest.\n",
    "    \n",
    "12. What is A/B testing?\n",
    " A/B testing, also known as split testing, refers to a randomized experimentation process wherein two or more versions of a\n",
    " variable (web page, page element, etc.) are shown to different segments of website visitors at the same time to determine\n",
    " which version leaves the maximum impact and drive business metrics.\n",
    " Essentially, A/B testing eliminates all the guesswork out of website optimization and enables experience optimizers to make\n",
    " data-backed decisions. In A/B testing, A refers to ‘control’ or the original testing variable. Whereas B refers to ‘variation’\n",
    " or a new version of the original testing variable. \n",
    "\n",
    "13. Is mean imputation of missing data acceptable practice?\n",
    " True, imputing the mean preserves the mean of the observed data. So if the data are missing completely at random, the\n",
    " estimate of the mean remains unbiased.That's a good thing. ...\n",
    " Since most research studies are interested in the relationship among variables, mean imputation is not a good solution.\n",
    "    \n",
    "14. What is linear regression in statistics?\n",
    " In statistics, linear regression is a linear approach to modelling the relationship between a scalar response and one or more\n",
    " explanatory variables (also known as dependent and independent variables). The case of one explanatory variable is called\n",
    " simple linear regression; for more than one, the process is called multiple linear regression.This term is distinct from\n",
    " multivariate linear regression, where multiple correlated dependent variables are predicted, rather than a single scalar\n",
    " variable.\n",
    "    \n",
    "15. What are the various branches of statistics?\n",
    " The two main branches of statistics are descriptive statistics and inferential statistics. Both of these are employed in\n",
    " scientific analysis of data and both are equally important for the student of statistics.\n",
    "\n",
    "    \n",
    "    \n",
    "    \n",
    "    \n",
    "    \n",
    "    \n",
    "    \n"
   ]
  }
 ],
 "metadata": {
  "kernelspec": {
   "display_name": "Python 3",
   "language": "python",
   "name": "python3"
  },
  "language_info": {
   "codemirror_mode": {
    "name": "ipython",
    "version": 3
   },
   "file_extension": ".py",
   "mimetype": "text/x-python",
   "name": "python",
   "nbconvert_exporter": "python",
   "pygments_lexer": "ipython3",
   "version": "3.8.5"
  }
 },
 "nbformat": 4,
 "nbformat_minor": 4
}
